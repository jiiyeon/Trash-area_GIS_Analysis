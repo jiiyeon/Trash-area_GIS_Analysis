{
 "cells": [
  {
   "cell_type": "code",
   "execution_count": 2,
   "metadata": {},
   "outputs": [],
   "source": [
    "import pandas as pd\n",
    "import numpy as np"
   ]
  },
  {
   "cell_type": "markdown",
   "metadata": {},
   "source": [
    "### 1 행정동 파악\n",
    "#### 1.1 Read Data"
   ]
  },
  {
   "cell_type": "code",
   "execution_count": 3,
   "metadata": {},
   "outputs": [
    {
     "data": {
      "text/html": [
       "<div>\n",
       "<style scoped>\n",
       "    .dataframe tbody tr th:only-of-type {\n",
       "        vertical-align: middle;\n",
       "    }\n",
       "\n",
       "    .dataframe tbody tr th {\n",
       "        vertical-align: top;\n",
       "    }\n",
       "\n",
       "    .dataframe thead th {\n",
       "        text-align: right;\n",
       "    }\n",
       "</style>\n",
       "<table border=\"1\" class=\"dataframe\">\n",
       "  <thead>\n",
       "    <tr style=\"text-align: right;\">\n",
       "      <th></th>\n",
       "      <th>FTR_CDE</th>\n",
       "      <th>HJD_CDE</th>\n",
       "      <th>HJD_NAM</th>\n",
       "      <th>SHAPE_AREA</th>\n",
       "      <th>SHAPE_LEN</th>\n",
       "    </tr>\n",
       "  </thead>\n",
       "  <tbody>\n",
       "    <tr>\n",
       "      <th>0</th>\n",
       "      <td>UC300</td>\n",
       "      <td>41590587</td>\n",
       "      <td>동탄3동</td>\n",
       "      <td>0.0</td>\n",
       "      <td>0.0</td>\n",
       "    </tr>\n",
       "    <tr>\n",
       "      <th>1</th>\n",
       "      <td>UC300</td>\n",
       "      <td>41590540</td>\n",
       "      <td>병점2동</td>\n",
       "      <td>0.0</td>\n",
       "      <td>0.0</td>\n",
       "    </tr>\n",
       "    <tr>\n",
       "      <th>2</th>\n",
       "      <td>UC300</td>\n",
       "      <td>41590585</td>\n",
       "      <td>동탄1동</td>\n",
       "      <td>0.0</td>\n",
       "      <td>0.0</td>\n",
       "    </tr>\n",
       "    <tr>\n",
       "      <th>3</th>\n",
       "      <td>UC300</td>\n",
       "      <td>41590550</td>\n",
       "      <td>반월동</td>\n",
       "      <td>0.0</td>\n",
       "      <td>0.0</td>\n",
       "    </tr>\n",
       "    <tr>\n",
       "      <th>4</th>\n",
       "      <td>UC300</td>\n",
       "      <td>41590586</td>\n",
       "      <td>동탄2동</td>\n",
       "      <td>0.0</td>\n",
       "      <td>0.0</td>\n",
       "    </tr>\n",
       "  </tbody>\n",
       "</table>\n",
       "</div>"
      ],
      "text/plain": [
       "  FTR_CDE   HJD_CDE HJD_NAM  SHAPE_AREA  SHAPE_LEN\n",
       "0   UC300  41590587    동탄3동         0.0        0.0\n",
       "1   UC300  41590540    병점2동         0.0        0.0\n",
       "2   UC300  41590585    동탄1동         0.0        0.0\n",
       "3   UC300  41590550     반월동         0.0        0.0\n",
       "4   UC300  41590586    동탄2동         0.0        0.0"
      ]
     },
     "execution_count": 3,
     "metadata": {},
     "output_type": "execute_result"
    }
   ],
   "source": [
    "data = pd.read_csv('./화성시_행정동.csv',encoding='ANSI')\n",
    "df = pd.DataFrame(data)\n",
    "df.head(5)"
   ]
  },
  {
   "cell_type": "code",
   "execution_count": null,
   "metadata": {},
   "outputs": [],
   "source": [
    "data02 = pd.read_csv('./업체별 처리구역(2001).csv',encoding='utf-8')\n",
    "df02 = pd.DataFrame(data02)\n",
    "df02.head(5)"
   ]
  },
  {
   "cell_type": "markdown",
   "metadata": {},
   "source": [
    "&nbsp;\n",
    "#### 1.2 거래처 담당구역과 행정동 일치"
   ]
  },
  {
   "cell_type": "code",
   "execution_count": 4,
   "metadata": {},
   "outputs": [
    {
     "name": "stdout",
     "output_type": "stream",
     "text": [
      "['동탄3동', '병점2동', '동탄1동', '반월동', '동탄2동', '기배동', '정남면', '화산동', '병점1동', '비봉면', '장안면', '봉담읍', '팔탄면', '향남읍', '양감면', '매송면', '우정읍', '진안동', '남양읍', '서신면', '송산면', '마도면', '동탄4동', '동탄5동', '동탄6동', '동탄7동', '새솔동', '동탄8동']\n",
      "['동탄2동, 동탄3동', '병점2동, 반월동, 진안동', '봉담읍, 매송면, 비봉면', '남양읍, 마도면, 송산면, 서신면, 송산그린시티', '향남읍', '우정읍, 장안면, 양감면, 팔탄면', '동탄6동, 동탄7동', '병점1동, 화산동, 기배동, 정남면', '동탄1동', '동탄5동', '동탄4동', '동탄8동']\n"
     ]
    }
   ],
   "source": [
    "gis_list=list(df['HJD_NAM'])\n",
    "drive_list=list(df02['담당구역(행정동)'])\n",
    "\n",
    "print(gis_list)\n",
    "print(drive_list)\n",
    "# 담당구역에서 value가 list로 들어간 경우가 있음"
   ]
  },
  {
   "cell_type": "code",
   "execution_count": 5,
   "metadata": {},
   "outputs": [
    {
     "name": "stdout",
     "output_type": "stream",
     "text": [
      "['동탄2동', '동탄3동', '병점2동', '반월동', '진안동', '봉담읍', '매송면', '비봉면', '남양읍', '마도면', '송산면', '서신면', '송산그린시티', '향남읍', '우정읍', '장안면', '양감면', '팔탄면', '동탄6동', '동탄7동', '병점1동', '화산동', '기배동', '정남면', '동탄1동', '동탄5동', '동탄4동', '동탄8동']\n"
     ]
    }
   ],
   "source": [
    "# 담당구역의 value를 모두 string으로 전환하여 list 재 생성\n",
    "\n",
    "len(df02['담당구역(행정동)'])   # 12\n",
    "\n",
    "drive_list_str = []\n",
    "\n",
    "for i in range(0,12) :\n",
    "    mid = []\n",
    "    mid = df02['담당구역(행정동)'][i].split(',')\n",
    "    \n",
    "    for item in mid :\n",
    "        item=item.strip()\n",
    "        drive_list_str.append(item)\n",
    "        \n",
    "print(drive_list_str)"
   ]
  },
  {
   "cell_type": "code",
   "execution_count": 6,
   "metadata": {},
   "outputs": [],
   "source": [
    "# list 일치 확인\n",
    "\n",
    "gis_list_cor = []\n",
    "gis_list_nan = []\n",
    "\n",
    "drive_list_cor = []\n",
    "drive_list_nan = []\n",
    "\n",
    "for g in gis_list :\n",
    "    if g in drive_list_str :\n",
    "        gis_list_cor.append(g)\n",
    "    else :\n",
    "        gis_list_nan.append(g)\n",
    "        \n",
    "for d in drive_list_str :\n",
    "    if d in gis_list :\n",
    "        drive_list_cor.append(d)\n",
    "    else :\n",
    "        drive_list_nan.append(d)"
   ]
  },
  {
   "cell_type": "code",
   "execution_count": 7,
   "metadata": {},
   "outputs": [
    {
     "name": "stdout",
     "output_type": "stream",
     "text": [
      "일치하는 행정동 ['동탄3동', '병점2동', '동탄1동', '반월동', '동탄2동', '기배동', '정남면', '화산동', '병점1동', '비봉면', '장안면', '봉담읍', '팔탄면', '향남읍', '양감면', '매송면', '우정읍', '진안동', '남양읍', '서신면', '송산면', '마도면', '동탄4동', '동탄5동', '동탄6동', '동탄7동', '동탄8동']\n",
      "담당이 없는 행정동 ['새솔동']\n",
      "존재하지 않는 처리구역 ['송산그린시티']\n"
     ]
    }
   ],
   "source": [
    "print('일치하는 행정동',gis_list_cor)\n",
    "print('담당이 없는 행정동',gis_list_nan)\n",
    "print('존재하지 않는 처리구역', drive_list_nan)\n",
    "\n",
    "con_list=gis_list_cor.copy()  ## 담당구역 list\n",
    "\n",
    "# 담당이 없는 행정동 ['새솔동'] : 새솔동은 4구역에서 법정동으로 포함됨\n",
    "# 존재하지 않는 처리 구역 ['송산그린시티'] : 송산그린시티가 새솔동 내부로 확인됨\n",
    "## 따라서 '송산그린시티' -> '새솔동'으로 처리하여 매칭"
   ]
  },
  {
   "cell_type": "markdown",
   "metadata": {},
   "source": [
    "- 폐기물 처리업체와 행정동 비교결과 대부분 일치  \n",
    "['동탄3동', '병점2동', '동탄1동', '반월동', '동탄2동', '기배동', '정남면', '화산동', '병점1동', '비봉면', '장안면', '봉담읍', '팔탄면', '향남읍', '양감면', '매송면', '우정읍', '진안동', '남양읍', '서신면', '송산면', '마도면', '동탄4동', '동탄5동', '동탄6동', '동탄7동', '동탄8동']   \n",
    "&nbsp;  \n",
    "- 담당이 없는 행정동  \n",
    "'새솔동'은 4구역의 담당 법정동이며, 4구역에서 '송산그린시티'를 담당함 -> '새솔동'은 4구역으로 처리  \n",
    "&nbsp;  \n",
    "- 동부 폐기물 집계파일 확인결과 처리업체 목록에 없는 기업 존재  \n",
    "-> 해당 업체의 담당구역 확인 필요함"
   ]
  },
  {
   "cell_type": "markdown",
   "metadata": {},
   "source": [
    "---"
   ]
  },
  {
   "cell_type": "markdown",
   "metadata": {},
   "source": [
    "## 2 거래처 담당구역 파악  \n",
    "### 2.1 Data Setting\n",
    "- 동부적환장"
   ]
  },
  {
   "cell_type": "code",
   "execution_count": null,
   "metadata": {
    "scrolled": true
   },
   "outputs": [],
   "source": [
    "# 동부적환장_계근량(19) Read\n",
    "\n",
    "data03=pd.read_csv('./동부적환장_계근량(19)(반입).csv',\n",
    "                   encoding='utf-8')\n",
    "df03=pd.DataFrame(data03)\n",
    "df03.head(5)"
   ]
  },
  {
   "cell_type": "code",
   "execution_count": null,
   "metadata": {
    "scrolled": true
   },
   "outputs": [],
   "source": [
    "# 동부적환장_계근량(20) Read\n",
    "\n",
    "data05=pd.read_csv('./동부적환장_계근량(20).csv',encoding='utf-8')\n",
    "df05=pd.DataFrame(data05)\n",
    "\n",
    "## print(df05['입/출고'].isnull().sum()) == 0\n",
    "##print(len(df05)) == 5862\n",
    "\n",
    "df05=df05[df05['입/출고']=='입고']\n",
    "df05.to_csv('./동부적확장_계근량(20)(입고).csv', encoding='utf-8')\n",
    "df05.head(5)"
   ]
  },
  {
   "cell_type": "markdown",
   "metadata": {},
   "source": [
    "&nbsp;  \n",
    "- 서부자원화시설"
   ]
  },
  {
   "cell_type": "code",
   "execution_count": null,
   "metadata": {
    "scrolled": true
   },
   "outputs": [],
   "source": [
    "# 서부자원화시설_계근량(19) Read - Raw data\n",
    "\n",
    "data07=pd.read_csv('./서부자원화시설_계근량(19)(수정용).csv',encoding='utf-8')\n",
    "df07=pd.DataFrame(data07)\n",
    "\n",
    "## print(df07['입출'].isnull().sum()) == 1755\n",
    "## print(len(df07)) == 53944\n",
    "\n",
    "df07=df07[df07['입출']=='입고']\n",
    "df07.to_csv('./서부자원화시설_계근량(19)(입고).csv', encoding='utf-8')\n",
    "df07.head(5)"
   ]
  },
  {
   "cell_type": "code",
   "execution_count": null,
   "metadata": {
    "scrolled": true
   },
   "outputs": [],
   "source": [
    "# 서부자원화시설_계근량(20) Read - Raw data\n",
    "\n",
    "data09=pd.read_csv('./서부자원화시설_계근량(20)(수정용).csv',encoding='utf-8')\n",
    "df09=pd.DataFrame(data09)\n",
    "\n",
    "## print(df09['구분'].isnull().sum()) == 863\n",
    "## print(len(df09)) == 38604\n",
    "\n",
    "df09=df09[df09['구분']=='입고']\n",
    "df07.to_csv('./서부자원화시설_계근량(20)(입고).csv', encoding='utf-8')\n",
    "df09.head(5)"
   ]
  },
  {
   "cell_type": "markdown",
   "metadata": {},
   "source": [
    "---"
   ]
  },
  {
   "cell_type": "markdown",
   "metadata": {},
   "source": [
    "&nbsp;  \n",
    "### 2.2 &nbsp; 담당구역을 알 수 없는 거래처 추출  \n",
    "&nbsp;  \n",
    "- 2020년 폐기물 처리업체 list 와 미매칭되는 업체가 많음\n",
    "- 그런데 표기상의 문제(공백, (주)표기 등)로 다른 업체로 분류된 곳이 많음 -> 통일하여 데이터 정제 필요  \n",
    "&nbsp;  \n",
    "#### 1 &nbsp; 표준거래처 리스트 생성"
   ]
  },
  {
   "cell_type": "code",
   "execution_count": 14,
   "metadata": {},
   "outputs": [
    {
     "name": "stdout",
     "output_type": "stream",
     "text": [
      "['㈜은호ENT', '㈜원천환경', '㈜평촌', '㈜화성', '향원실업㈜', '신양환경㈜', '㈜나눔환경', '㈜크린씨티화성', '부경크린㈜', '개미환경㈜', '㈜유나이트', '㈜바른환경']\n"
     ]
    }
   ],
   "source": [
    "# 거래처의 value를 모두 string으로 전환하여 list 재 생성 : 거래처 기준\n",
    "\n",
    "len(df02['업체명'])   # 12\n",
    "\n",
    "op_str = []\n",
    "\n",
    "for i in range(0,12) :\n",
    "    mid = []\n",
    "    mid = df02['업체명'][i].split(',')\n",
    "    \n",
    "    for item in mid :\n",
    "        item=item.strip()\n",
    "        op_str.append(item)\n",
    "        \n",
    "print(op_str)"
   ]
  },
  {
   "cell_type": "code",
   "execution_count": 15,
   "metadata": {},
   "outputs": [],
   "source": [
    "# 거래처 list를 기반으로 표준거래처 list 생성\n",
    "# len(org_list) == 12\n",
    "\n",
    "org_list = ['(주)은호ENT','(주)원천환경','(주)평촌','(주)화성','(주)향원실업','(주)신양환경','(주)나눔환경','(주)크린시티화성',\n",
    "           '(주)부경크린','(주)개미환경','(주)유나이트','(주)바른환경']"
   ]
  },
  {
   "cell_type": "markdown",
   "metadata": {},
   "source": [
    "&nbsp;  \n",
    "#### 2 &nbsp; 표준거래처 사전 생성 및 적용"
   ]
  },
  {
   "cell_type": "markdown",
   "metadata": {},
   "source": [
    "- 동부적환장_계근량(19)"
   ]
  },
  {
   "cell_type": "code",
   "execution_count": 16,
   "metadata": {},
   "outputs": [],
   "source": [
    "# 거래처 list\n",
    "## print(set(df03['거래처']))\n",
    "\n",
    "op_list=['병점2동', '동탄5동', '양감면', '정남면', '매송면', '보건소', '남양읍', '월남참전전우회', '(주)신양환경', '엘 피 케이',\n",
    "         '동탄2동', '그린자원', '동부출장소', '팔탄', '자원화시설', '삼성환경개발', '삼흥개발', '지역개발사업소 산림녹지과',\n",
    "         '에코한마음', '동탄4동', '현화환경', '진안동', '(주)나눔환경', '동탄3동', '도로입양', '봉담읍', '삼희개발', '서신면',\n",
    "         '병점1동', '뉴그린', '동탄1동', '특수미래제단', '화산동', '자원화노면청소', '동탄출장소', '(주)향원실업', '신대한정유',\n",
    "         '반월동', '(주)평촌', '기배동', '(주)원천환경', '우정읍', '(주)크린시티화성', '마도', '오성개발', '주광건설', '(주)은호ENT',\n",
    "         '(주)화성', '대화안전관리', '미래재단', '제이스건설산업', '새한환경', '신대한정유산업', '(주)부경크린', '동탄6동', '자연수지']\n",
    "\n",
    "\n",
    "# 동부적환장_계근량(19) 표준거래처 사전\n",
    "\n",
    "org_dic = {'은호':'(주)은호ENT','원천환경':'(주)원천환경','평촌':'(주)평촌','향원실업':'(주)향원실업','신양':'(주)신양환경'\n",
    "           ,'나눔':'(주)나눔환경', '크린시티':'(주)크린시티화성','부경크린':'(주)부경크린'}"
   ]
  },
  {
   "cell_type": "code",
   "execution_count": null,
   "metadata": {},
   "outputs": [],
   "source": [
    "# 거래처명 표준화\n",
    "\n",
    "for org_name in list(org_dic.keys()) :\n",
    "    df03=df03.replace(org_name,org_dic[org_name])\n",
    "df03.head(5)"
   ]
  },
  {
   "cell_type": "code",
   "execution_count": 39,
   "metadata": {},
   "outputs": [
    {
     "name": "stdout",
     "output_type": "stream",
     "text": [
      "['보건소', '월남참전전우회', '엘 피 케이', '그린자원', '동부출장소', '팔탄', '자원화시설', '삼성환경개발', '삼흥개발', '지역개발사업소 산림녹지과', '에코한마음', '현화환경', '도로입양', '삼희개발', '뉴그린', '특수미래제단', '자원화노면청소', '동탄출장소', '신대한정유', '마도', '오성개발', '주광건설', '대화안전관리', '미래재단', '제이스건설산업', '새한환경', '신대한정유산업', '자연수지']\n"
     ]
    }
   ],
   "source": [
    "# 동부적환장_계근량(19) 담당구역을 알 수 없는 거래처\n",
    "\n",
    "op_list_check = []\n",
    "\n",
    "for item in op_list :\n",
    "    if item not in (org_list + con_list) :\n",
    "        op_list_check.append(item)\n",
    "        \n",
    "print(op_list_check)"
   ]
  },
  {
   "cell_type": "markdown",
   "metadata": {},
   "source": [
    "&nbsp;  \n",
    "- 동부적환장_계근량(20)"
   ]
  },
  {
   "cell_type": "code",
   "execution_count": 40,
   "metadata": {},
   "outputs": [],
   "source": [
    "# 거래처\n",
    "## print(set(df05['거래처']))\n",
    "\n",
    "op_list2=['병점2동', '동탄5동', '동탄청우실업', '동우상사', '양감면', '정남면', '동호산업', '남양읍', '(주)신양환경', '동탄2동',\n",
    "          '바른환경', '동부출장소', '팔탄', '우렁각시', '자원화시설', '더부름', '지역개발사업소 산림녹지과', '동탄4동', '(주)개미환경',\n",
    "          '(주)나눔환경', '진안동', '동탄3동', '봉담읍', '서신면', '병점1동', '동탄1동', '화산동', '동탄출장소', '(주)향원실업',\n",
    "          '반월동', '(주)평촌', '기배동', '(주)원천환경', '우정읍', '(주)크린시티화성', '마도', '(주)은호ENT', '(주)화성', '이크린',\n",
    "          '대화안전관리', '제일그린', '(주)부경크린', '동탄7동', '동탄6동', '송산']\n",
    "\n",
    "\n",
    "# 동부적환장_계근량(20) 표준거래처사전\n",
    "org_dic02 = {'은호':'(주)은호ENT','원천환경':'(주)원천환경','평촌':'(주)평촌', '화성':'(주)화성','향원':'(주)향원실업',\n",
    "             '향원실업':'(주)향원실업','신양':'(주)신양환경','나눔':'(주)나눔환경','크린시티':'(주)크린시티화성',\n",
    "             '부경크린':'(주)부경크린','개미환경':'(주)개미환경'}"
   ]
  },
  {
   "cell_type": "code",
   "execution_count": null,
   "metadata": {},
   "outputs": [],
   "source": [
    "# 거래처명 표준화\n",
    "\n",
    "for org_name02 in list(org_dic02.keys()) :\n",
    "    df05=df05.replace(org_name02,org_dic02[org_name02])\n",
    "df05.head(5)"
   ]
  },
  {
   "cell_type": "code",
   "execution_count": 42,
   "metadata": {},
   "outputs": [
    {
     "name": "stdout",
     "output_type": "stream",
     "text": [
      "['동탄청우실업', '동우상사', '동호산업', '바른환경', '동부출장소', '팔탄', '우렁각시', '자원화시설', '더부름', '지역개발사업소 산림녹지과', '동탄출장소', '마도', '이크린', '대화안전관리', '제일그린', '송산']\n"
     ]
    }
   ],
   "source": [
    "# 동부적환장_계근량(20) 담당구역을 알 수 없는 거래처\n",
    "\n",
    "op_list_check2 = []\n",
    "\n",
    "for item in op_list2 :\n",
    "    if item not in (org_list + con_list) :\n",
    "        op_list_check2.append(item)\n",
    "        \n",
    "print(op_list_check2)"
   ]
  },
  {
   "cell_type": "markdown",
   "metadata": {},
   "source": [
    "&nbsp;  \n",
    "- 서부자원화시설_계근량(19)"
   ]
  },
  {
   "cell_type": "code",
   "execution_count": 43,
   "metadata": {},
   "outputs": [],
   "source": [
    "# 거래처\n",
    "## print(set(df07['거래처']))\n",
    "\n",
    "op_list3=['영진자원재생', '동탄5동', '화성시청', '보건소', '특수임무유공자회', '(사)미래재단', '(주)씨에스그린', '대일개발',\n",
    "          '(주)두솔', '동탄4동', '삼성환경개발', '봉담읍', '서신면', '향남읍', '동탄1동', '화산동', '(주)피앤피시스템', '새한환경(주)',\n",
    "          '(주)평촌', '굴렁쇠협동조합', '도로관리과', '(주)청명(향남)', '(주)더위더스', '(주)화성', '화성그린환경센터', '대화안전관리',\n",
    "          '에코센터', '한국조명재활용공사', '전몰군경유족회', '두솔(향남신도시)', '제이스건설', '경기수질환경개발', '남양읍',\n",
    "          '정우리사이클링(주)', '동탄2동', '(주)자연수지', 'BSP경호단', '꿈에그린(주)', '가은이앤티', '자원화시설', '자원순환과',\n",
    "          '장안면', '(주)개미환경', '늘푸른산업', '팔탄면', '서부수도권자원순환센', '(주)엘피케이', '(주)향원실업', '(주)유나이트',\n",
    "          '이레자원', '청명2공장(향남신도시)', '청명제2공장(동탄2)', '(주)경기순환자원', '동탄6동', '국화도', '양감면', '(주)클린에코',\n",
    "          '현대연구소', '(주)신양환경', '동부출장소', '(주)신대한환경', '디에이치글로벌로지스', '새솔동', '클린에코(향남신도시)',\n",
    "          '기아자동차', '동탄8동', '삼희개발', '비봉면', '천일에너지', '에코한마음협동조합', '(주)원천환경', '우정읍', '세종환경(주)',\n",
    "          '청한공영(주)', '동탄7동', '에코리사이클링', '(주)피앤피', '송산면', '병점2동', '(주)신대한정유산업', '정남면', '고염제',\n",
    "          '매송면', '(주)청명', '(주)오성개발', '태주산업', '월남전참전회', '(주)나눔환경', '진안동', '동탄3동', '세종환경', '병점1동',\n",
    "          '마도면', '반월동', '기배동', '다누림사회', '(주)크린시티화성', '한국전지재활용협회', '청명제2공장', '(주)은호ENT',\n",
    "          '지채장회협회', '(주)부경크린', '전곡항', '광진데코', '자연수지']\n",
    "\n",
    "\n",
    "# 서부자원화시설_계근량(19) 표준거래처사전\n",
    "\n",
    "org_dic03={'신양환경':'(주)신양환경','(주)크린씨티화성':'(주)크린시티화성','(주)유나이트':'(주)유나이트','(주)나눔환경':'(주)나눔환경',\n",
    "          '(주)원천환경':'(주)원천환경','개미환경((주)':'(주)개미환경','(주)평촌':'(주)평촌','부경크린(주)':'(주)부경크린',\n",
    "          '(주)은호ENT':'(주)은호ENT','부경산업(주)':'(주)부경크린','향원실업':'(주)향원실업','(주)화성':'(주)화성',}"
   ]
  },
  {
   "cell_type": "code",
   "execution_count": null,
   "metadata": {},
   "outputs": [],
   "source": [
    "# 거래처명 표준화\n",
    "\n",
    "for org_name03 in list(org_dic03.keys()) :\n",
    "    df07=df07.replace(org_name03,org_dic03[org_name03])\n",
    "df07.head(5)"
   ]
  },
  {
   "cell_type": "code",
   "execution_count": 46,
   "metadata": {},
   "outputs": [
    {
     "name": "stdout",
     "output_type": "stream",
     "text": [
      "['영진자원재생', '화성시청', '보건소', '특수임무유공자회', '(사)미래재단', '(주)씨에스그린', '대일개발', '(주)두솔', '삼성환경개발', '(주)피앤피시스템', '새한환경(주)', '굴렁쇠협동조합', '도로관리과', '(주)청명(향남)', '(주)더위더스', '화성그린환경센터', '대화안전관리', '에코센터', '한국조명재활용공사', '전몰군경유족회', '두솔(향남신도시)', '제이스건설', '경기수질환경개발', '정우리사이클링(주)', '(주)자연수지', 'BSP경호단', '꿈에그린(주)', '가은이앤티', '자원화시설', '자원순환과', '늘푸른산업', '서부수도권자원순환센', '(주)엘피케이', '이레자원', '청명2공장(향남신도시)', '청명제2공장(동탄2)', '(주)경기순환자원', '국화도', '(주)클린에코', '현대연구소', '동부출장소', '(주)신대한환경', '디에이치글로벌로지스', '새솔동', '클린에코(향남신도시)', '기아자동차', '삼희개발', '천일에너지', '에코한마음협동조합', '세종환경(주)', '청한공영(주)', '에코리사이클링', '(주)피앤피', '(주)신대한정유산업', '고염제', '(주)청명', '(주)오성개발', '태주산업', '월남전참전회', '세종환경', '다누림사회', '한국전지재활용협회', '청명제2공장', '지채장회협회', '전곡항', '광진데코', '자연수지']\n"
     ]
    }
   ],
   "source": [
    "# 서부자원화시설_계근량(19)\n",
    "\n",
    "op_list_check3 = []\n",
    "\n",
    "for item in op_list3 :\n",
    "    if item not in (org_list + con_list) :\n",
    "        op_list_check3.append(item)\n",
    "        \n",
    "print(op_list_check3)\n",
    "\n",
    "op_check03=pd.DataFrame(op_list_check3)\n",
    "op_check03.to_csv('거래처3.csv', encoding='ANSI')"
   ]
  },
  {
   "cell_type": "markdown",
   "metadata": {},
   "source": [
    "&nbsp;  \n",
    "- 서부자원화시설_계근량(20)"
   ]
  },
  {
   "cell_type": "code",
   "execution_count": 47,
   "metadata": {},
   "outputs": [],
   "source": [
    "# 서부자원화시설_계근량(20) 거래처\n",
    "## print(set(df09['거래처명']))\n",
    "\n",
    "op_list4=['동탄5동', '보건소', '(주)더블유알에스', '(주)씨에스그린', '(주)두솔', '동탄4동', '봉담읍', '서신면', '향남읍', '동탄1동',\n",
    "          '화산동', '동탄출장소', '(주)평촌', '굴렁쇠협동조합', '도로관리과', '(주)화성', '화성그린환경센터', '두솔(향남신도시)',\n",
    "          '남양읍', '정우리사이클링(주)', '동탄2동', '꿈에그린(주)', '산림녹지과', '자원화시설', '자원순환과', '장안면',\n",
    "          '경기환경에너지(주)', '(주)진흥중공업', '(주)개미환경', '팔탄면', '서부수도권자원순환센', '(주)향원실업', '(주)유나이트',\n",
    "          '이레자원', '(주)뉴그린', '청명2공장(향남신도시)', '알티코리아', '동탄6동', '현대환경(주)', '국화도', '양감면',\n",
    "          '(주)클린에코', '현대연구소', '(주)신양환경', '동부출장소', '(주)신대한환경', '새솔동', '유한회사 이크린',\n",
    "          '클린에코(향남신도시)', '비노텍(주)', '기아자동차', '동탄8동', '(주)컴윈', '비봉면', '(주)바른환경', '에코한마음협동조합',\n",
    "          '더브룸', '(주)원천환경', '우정읍', '동탄7동', '에코리사이클링', '송산면', '병점2동', '(주)신대한정유산업', '정남면',\n",
    "          '매송면', '(주)나눔환경', '진안동', '동탄3동', '병점1동', '마도면', '반월동', '기배동', '(주)크린시티화성',\n",
    "          '한국전지재활용협회', '청명제2공장', '(주)은호ENT', '우렁각시매직케어', '제일그린', '(주)부경크린', '영진자원재생']\n",
    "\n",
    "# 서부자원화시설_계근량(20) 표준거래처사전\n",
    "\n",
    "org_dic04={'(주)유나이트':'(주)유나이트','(주)평촌':'(주)평촌','(주)화성':'(주)화성','(주)나눔환경':'(주)나눔환경',\n",
    "           '부경크린(주)':'(주)부경크린','(주)크린씨티화성':'(주)크린시티화성','(주)은호ENT':'(주)은호ENT',\n",
    "           '(주)원천환경':'(주)원천환경','개미환경((주)':'(주)개미환경', '부경산업(주)':'(주)부경크린', '신양환경':'(주)신양환경',\n",
    "           '향원실업':'(주)향원실업',\n",
    "          '바른환경':'(주)바른환경'}"
   ]
  },
  {
   "cell_type": "code",
   "execution_count": null,
   "metadata": {},
   "outputs": [],
   "source": [
    "# 거래처명 표준화\n",
    "\n",
    "for org_name04 in list(org_dic04.keys()) :\n",
    "    df09=df09.replace(org_name04,org_dic04[org_name04])\n",
    "df09.head(5)"
   ]
  },
  {
   "cell_type": "code",
   "execution_count": 50,
   "metadata": {},
   "outputs": [
    {
     "name": "stdout",
     "output_type": "stream",
     "text": [
      "['보건소', '(주)더블유알에스', '(주)씨에스그린', '(주)두솔', '동탄출장소', '굴렁쇠협동조합', '도로관리과', '화성그린환경센터', '두솔(향남신도시)', '정우리사이클링(주)', '꿈에그린(주)', '산림녹지과', '자원화시설', '자원순환과', '경기환경에너지(주)', '(주)진흥중공업', '서부수도권자원순환센', '이레자원', '(주)뉴그린', '청명2공장(향남신도시)', '알티코리아', '현대환경(주)', '국화도', '(주)클린에코', '현대연구소', '동부출장소', '(주)신대한환경', '새솔동', '유한회사 이크린', '클린에코(향남신도시)', '비노텍(주)', '기아자동차', '(주)컴윈', '에코한마음협동조합', '더브룸', '에코리사이클링', '(주)신대한정유산업', '한국전지재활용협회', '청명제2공장', '우렁각시매직케어', '제일그린', '영진자원재생']\n"
     ]
    }
   ],
   "source": [
    "# 서부자원화시설_계근량(20)\n",
    "\n",
    "op_list_check4 = []\n",
    "\n",
    "for item in op_list4 :\n",
    "    if item not in (org_list + con_list) :\n",
    "        op_list_check4.append(item)\n",
    "        \n",
    "print(op_list_check4)\n",
    "\n",
    "op_check04=pd.DataFrame(op_list_check4)\n",
    "op_check04.to_csv('거래처4.csv', encoding='ANSI')"
   ]
  },
  {
   "cell_type": "code",
   "execution_count": 58,
   "metadata": {},
   "outputs": [],
   "source": [
    "df03.to_csv('동부적환장(19)_pre1.csv', encoding='ANSI',index=False)\n",
    "df05.to_csv('동부적환장(20)_pre1.csv', encoding='ANSI',index=False)\n",
    "df07.to_csv('서부자원화시설(19)_pre1.csv', encoding='ANSI',index=False)\n",
    "df09.to_csv('서부자원화시설(20)_pre1.csv', encoding='ANSI',index=False)"
   ]
  },
  {
   "cell_type": "markdown",
   "metadata": {},
   "source": [
    "&nbsp;  \n",
    "#### 2.3 위치를 알 수 없는 계근량  \n",
    "- 표기 상의 문제로 대부분의 업체가 다른 업체로 분류됨 -> 2.2에서 처리업체 정제 후 다시 수치확인"
   ]
  },
  {
   "cell_type": "code",
   "execution_count": 51,
   "metadata": {},
   "outputs": [
    {
     "name": "stdout",
     "output_type": "stream",
     "text": [
      "0.5025588536335721\n"
     ]
    }
   ],
   "source": [
    "# 동부(2019년)\n",
    "\n",
    "df03_columns=list(df03.columns.values)\n",
    "df04 = pd.DataFrame(columns=df03_columns)\n",
    "\n",
    "for op_name in op_list_check :\n",
    "    df04=pd.concat([df04,df03[df03['거래처']==op_name].copy()], ignore_index=True)\n",
    "    \n",
    "print(len(df04)/len(df03))   # 약 50%의 데이터에서 담당구역을 알 수 없음"
   ]
  },
  {
   "cell_type": "code",
   "execution_count": 52,
   "metadata": {
    "scrolled": true
   },
   "outputs": [
    {
     "name": "stdout",
     "output_type": "stream",
     "text": [
      "0.4857452183327319\n"
     ]
    }
   ],
   "source": [
    "# 동부(2020년)\n",
    "\n",
    "df05_columns=list(df05.columns.values)\n",
    "df06 = pd.DataFrame(columns=df05_columns)\n",
    "\n",
    "for op_name in op_list_check2 :\n",
    "    df06=pd.concat([df06,df05[df05['거래처']==op_name].copy()], ignore_index=True)\n",
    "    \n",
    "print(len(df06)/len(df05))   # 약 48%의 데이터에서 담당구역을 알 수 없음"
   ]
  },
  {
   "cell_type": "code",
   "execution_count": 53,
   "metadata": {},
   "outputs": [
    {
     "name": "stdout",
     "output_type": "stream",
     "text": [
      "0.12506793317738238\n"
     ]
    }
   ],
   "source": [
    "# 서부(2019년)\n",
    "\n",
    "df07_columns=list(df07.columns.values)\n",
    "df08 = pd.DataFrame(columns=df07_columns)\n",
    "\n",
    "for op_name in op_list_check3 :\n",
    "    df08=pd.concat([df08,df07[df07['거래처']==op_name].copy()], ignore_index=True)\n",
    "    \n",
    "print(len(df08)/len(df07))   # 약 13%의 데이터에서 담당구역을 알 수 없음"
   ]
  },
  {
   "cell_type": "code",
   "execution_count": 54,
   "metadata": {},
   "outputs": [
    {
     "name": "stdout",
     "output_type": "stream",
     "text": [
      "0.06044229096782209\n"
     ]
    }
   ],
   "source": [
    "# 서부(2020년)\n",
    "\n",
    "df09_columns=list(df09.columns.values)\n",
    "df10 = pd.DataFrame(columns=df09_columns)\n",
    "\n",
    "for op_name in op_list_check4 :\n",
    "    df10=pd.concat([df10,df09[df09['거래처명']==op_name].copy()], ignore_index=True)\n",
    "    \n",
    "print(len(df10)/len(df09))   # 약 6%의 데이터에서 담당구역을 알 수 없음"
   ]
  },
  {
   "cell_type": "markdown",
   "metadata": {},
   "source": [
    "---"
   ]
  },
  {
   "cell_type": "code",
   "execution_count": null,
   "metadata": {},
   "outputs": [],
   "source": []
  }
 ],
 "metadata": {
  "kernelspec": {
   "display_name": "Python 3",
   "language": "python",
   "name": "python3"
  },
  "language_info": {
   "codemirror_mode": {
    "name": "ipython",
    "version": 3
   },
   "file_extension": ".py",
   "mimetype": "text/x-python",
   "name": "python",
   "nbconvert_exporter": "python",
   "pygments_lexer": "ipython3",
   "version": "3.8.5"
  }
 },
 "nbformat": 4,
 "nbformat_minor": 4
}
